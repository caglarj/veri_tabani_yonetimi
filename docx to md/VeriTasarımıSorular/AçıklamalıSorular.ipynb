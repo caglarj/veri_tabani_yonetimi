{
 "cells": [
  {
   "attachments": {},
   "cell_type": "markdown",
   "metadata": {},
   "source": [
    "01. Veri tabanı nedir?"
   ]
  },
  {
   "attachments": {},
   "cell_type": "markdown",
   "metadata": {},
   "source": [
    "   >Veri tabanı, büyük veri kümelerinin daha etkili işlenmesi için hazırlanmış yapılardır. "
   ]
  },
  {
   "attachments": {},
   "cell_type": "markdown",
   "metadata": {},
   "source": [
    "02. İlişkisel veri modeli (RDMS) nedir? Hangi veri yapılarını içerir?\n",
    "\n",
    "\n",
    "#### Cevap : \n",
    "\n",
    ">Verinin niteliklerinin (sütun, değişken, özellik, boyut, vb) gruplanarak küçük veri yapıları oluşturulması, saklanması  ve bu veri  yapılarının birbirleriyle ilişkilendirilmesi esasına dayanan veritabanı yönetim sistemi türüdür. \n",
    "\n",
    "İlişkisel veri modeli, verilerin yapısal olarak düzenlenmesi için kullanıulan bir modeldir. \n",
    "veriler tablolar, adı verilen bir dizi ilişkisel yapıda saklanır. bu tablolar her biri bir anahtar ile ilişkisel olarak  bağlı sütünlar içeren bir dizi satıran oluşur.\n",
    "\n",
    ">RDMS = Relational Database Management Systems.\n",
    "\n",
    "Tablolar: İlişkisel veri modelinde, veriler tablolar şeklinde saklanır. Her bir tablo, bir anahtar (örneğin, birincil anahtar) ve ilişkisel olarak bağlı sütunlar içeren bir dizi satırdan oluşur.\n",
    "\n",
    "İlişkiler: İlişkisel veri modelinde, tablolar arasındaki ilişkiler anahtar alanları kullanılarak tanımlanır. Bu ilişkiler, bir tablodaki bir kayıdın diğer bir tabloyla ilişkili olduğunu belirtir.\n",
    "\n",
    "Anahtarlar: İlişkisel veri modelinde, anahtarlar bir veya daha fazla sütundaki verilerin benzersizliğini garanti eder. Birincil anahtar, bir tablodaki her bir kaydı benzersiz bir şekilde tanımlarken, ikincil anahtarlar da benzersiz bir şekilde tanımlanmış verileri aramak için kullanılır.\n",
    "\n",
    "İşlevler: İlişkisel veri modelinde, işlevler verileri filtrelemek, sıralamak ve gruplamak için kullanılır. Bu işlevler, verileri daha anlamlı bir şekilde düzenlemek ve raporlamak için kullanılabilir.\n",
    "\n"
   ]
  },
  {
   "attachments": {},
   "cell_type": "markdown",
   "metadata": {},
   "source": [
    "03. Bir veri tabanı yönetim sistemi (VTYS) nedir? Hangi işlevlere sahiptir?\n",
    "\n",
    "#### Cevap : \n",
    "\n",
    "Bir veritabanı yönetim sistemi (VTYS), verilerin toplanması, depolanması, yönetilmesi ve erişimini sağlayan bir yazılım sistemidir. VTYS, bir veritabanı oluşturma, veri tabanı güncelleme, veri saklama, veri kurtarma, veri yedekleme ve veri güvenliği gibi bir dizi işleve sahiptir."
   ]
  },
  {
   "attachments": {},
   "cell_type": "markdown",
   "metadata": {},
   "source": [
    "04. Bir veri tabanı tasarlarken nelere dikkat etmek gerekir?\n"
   ]
  },
  {
   "attachments": {},
   "cell_type": "markdown",
   "metadata": {
    "slideshow": {
     "slide_type": "slide"
    }
   },
   "source": [
    "\n",
    "\n",
    "```markdown\n",
    "# Cevap : \n",
    "\n",
    "1. **Verilerin doğru ve tutarlı bir şekilde saklanması:** Verilerin doğru bir şekilde saklanması, veritabanının işlevselliği ve kullanılabilirliği açısından kritik öneme sahiptir. Verilerin doğru bir şekilde saklanması, veritabanı kullanıcılarının güvenilir bilgilere erişmesini sağlar.\n",
    "\n",
    "2. **Verilerin uygun şekilde organize edilmesi:** Verilerin uygun şekilde organize edilmesi, veritabanının performansını etkiler. Verilerin uygun bir şekilde organize edilmesi, veritabanı kullanıcılarına hızlı ve etkili bir şekilde verilere erişim sağlar.\n",
    "\n",
    "3. **Verilerin normalleştirilmesi:** Verilerin normalleştirilmesi, veritabanının bütünlüğünü ve tutarlılığını sağlar. Normalleştirme, verilerin tekrarlanan verilerin kaldırılması ve her veri öğesinin yalnızca bir kez kaydedilmesi yoluyla optimize edilmesi anlamına gelir.\n",
    "\n",
    "4. **Veri erişim yetkilerinin yönetimi:** Veritabanı kullanıcılarının erişebileceği verilerin sınırlanması, veritabanının güvenliği açısından önemlidir. Veri erişim yetkilerinin yönetimi, veritabanının kullanıcılara verileri güvenli bir şekilde sunmasını sağlar.\n",
    "\n",
    "5. **Verilerin yedeklenmesi ve kurtarılması:** Verilerin yedeklenmesi ve kurtarılması, veritabanının sürekliliği açısından önemlidir. Verilerin yedeklenmesi, veri kaybı durumunda verilerin kurtarılmasına izin verir.\n",
    "\n",
    "6. **Verilerin performansı ve ölçeklenebilirliği:** Veritabanı tasarımı, verilerin performansını ve ölçeklenebilirliğini dikkate almalıdır. Veritabanının performansı, kullanıcılar tarafından yüksek trafikli ortamlarda erişildiğinde bile hızlı ve etkili bir şekilde verilere erişim sağlamalıdır. Ölçeklenebilirlik, veritabanının artan veri hacimleriyle başa çıkabilmesi ve sorunsuz bir şekilde genişleyebilmesi anlamına gelir.\n",
    "```"
   ]
  },
  {
   "attachments": {},
   "cell_type": "markdown",
   "metadata": {},
   "source": [
    "05. Bir veri tabanı tasarlamak için hangi adımları takip etmek gerekir?\n",
    "   "
   ]
  },
  {
   "attachments": {},
   "cell_type": "markdown",
   "metadata": {
    "slideshow": {
     "slide_type": "slide"
    }
   },
   "source": [
    "```markdown\n",
    "# Cevap : \n",
    " **Gereksinimleri belirleme:** Veritabanının ne amaçla kullanılacağı ve hangi verilerin saklanacağı belirlenir. Veritabanının amaçları ve hedefleri doğru bir şekilde tanımlanmadan önce, tasarımın geri kalanı için doğru bir temel yoktur.\n",
    "\n",
    "**Veri modellerini oluşturma:** Verilerin nasıl saklanacağına ve organize edileceğine karar vermek için veri modelleri oluşturulur. Bu adım veritabanının yapısını belirleyecektir.\n",
    "\n",
    "*Normalleştirme:*  Normalleştirme, verilerin tutarlılığını ve bütünlüğünü sağlamak için kullanılır. Verilerin tekrarlanan verilerin kaldırılması ve her veri öğesinin yalnızca bir kez kaydedilmesi yoluyla optimize edilmesi anlamına gelir.\n",
    "\n",
    "    *Veri ilişkilerini belirleme:* Veri modelleri oluşturulduktan sonra, veri tabanı tasarımcısı veriler arasındaki ilişkileri tanımlamalıdır. Bu adım, verilerin etkileşimini optimize etmeye yardımcı olacaktır.\n",
    "\n",
    "    *Veri erişim yönetimi:* Veritabanına erişebilecek olan kullanıcılar ve kullanıcıların erişim düzeyleri belirlenir. Bu adım, veritabanının güvenliğini sağlamak için önemlidir.\n",
    "\n",
    "    *Veri yedekleme ve kurtarma:* Verilerin yedeklenmesi ve kurtarılması, veritabanının sürekliliği açısından önemlidir. Verilerin yedeklenmesi, veri kaybı durumunda verilerin kurtarılmasına izin verir.\n",
    "\n",
    "    *Veri performansının ve ölçeklenebilirliğinin optimize edilmesi:*\n",
    "    Veritabanının performansı, kullanıcılar tarafından yüksek trafikli ortamlarda erişildiğinde bile hızlı ve etkili bir şekilde verilere erişim sağlamalıdır. Ölçeklenebilirlik, veritabanının artan veri hacimleriyle başa çıkabilmesi ve sorunsuz bir şekilde genişleyebilmesi anlamına gelir.\n",
    "\n",
    "    *Veri tabanının uygulanması:* Veritabanı tasarımının uygulanması, veritabanının oluşturulması ve kullanılabilir hale getirilmesini sağlar.\n",
    "\n",
    "    *Veri tabanının test edilmesi:* Veritabanının doğru çalıştığından ve beklenen performansı sağladığından emin olmak için test edilmelidir.\n",
    "```"
   ]
  },
  {
   "attachments": {},
   "cell_type": "markdown",
   "metadata": {},
   "source": [
    "06. Veri tabanı normalizasyonu nedir? Hangi amaçla kullanılır?"
   ]
  },
  {
   "attachments": {},
   "cell_type": "markdown",
   "metadata": {},
   "source": [
    "```markdown\n",
    "# Cevap\n",
    "\n",
    "Normal Formlara uygun olarak tasarlanmış bir veri tabanına normalize, bu sürece ise normalizasyon adı verilmektedir.(Lee,1995; Hoffer, 2016)\n",
    "```"
   ]
  },
  {
   "attachments": {},
   "cell_type": "markdown",
   "metadata": {},
   "source": [
    "08. Veri tabanı güvenliği için hangi önlemler alınabilir?"
   ]
  },
  {
   "attachments": {},
   "cell_type": "markdown",
   "metadata": {},
   "source": [
    "09. Bir veri tabanı yöneticisi (VTY) ne yapar?\n",
    "\n",
    "\n",
    "```markdown\n",
    "# Cevap\n",
    "\n",
    "\n",
    "\n",
    "```"
   ]
  },
  {
   "attachments": {},
   "cell_type": "markdown",
   "metadata": {},
   "source": [
    "```markdown\n",
    "# Soru.10:  Hangi durumlarda bir veri tabanı performans sorunları yaşayabilir? Bu sorunlar nasıl çözülebilir?\n",
    "```\n",
    "\n",
    "Genel itibari ile,\n",
    "\n",
    "1. yüksek trafik\n",
    "2. yanlış yapılandırma, yeterince normalleştirilmemiş veya gereksiz diznler.\n",
    "3. Yanlış Sorgu,\n",
    "4. Veri tabanı boyutu,\n",
    "5. Donanım Sorunları,\n",
    "6. Yedeklemeler ve güncellemelerin ihmal edilmesi. "
   ]
  },
  {
   "attachments": {},
   "cell_type": "markdown",
   "metadata": {},
   "source": [
    "```markdown\n",
    "# Soru.13:  Bir veri tabanı yönetim sistemi (VTYS) nedir? VTYS'nin hangi işlevleri vardır ve neden önemlidir?\n",
    "```\n",
    "\n",
    "\n",
    "```markdown\n",
    "# Cevap\n",
    "\n",
    "VTYS, verinin saklanması ve işlenmesiyle ilgili etkili bir yol sunan yazılımlardır.\n",
    "\n",
    "\n",
    "```"
   ]
  }
 ],
 "metadata": {
  "kernelspec": {
   "display_name": "Python 3",
   "language": "python",
   "name": "python3"
  },
  "language_info": {
   "name": "python",
   "version": "3.10.9"
  },
  "orig_nbformat": 4
 },
 "nbformat": 4,
 "nbformat_minor": 2
}
