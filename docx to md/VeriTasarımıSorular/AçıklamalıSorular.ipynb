{
 "cells": [
  {
   "attachments": {},
   "cell_type": "markdown",
   "metadata": {},
   "source": [
    "01. Veri tabanı nedir?"
   ]
  },
  {
   "attachments": {},
   "cell_type": "markdown",
   "metadata": {},
   "source": [
    "02. İlişkisel veri modeli nedir? Hangi veri yapılarını içerir?"
   ]
  },
  {
   "attachments": {},
   "cell_type": "markdown",
   "metadata": {},
   "source": [
    "03. Bir veri tabanı yönetim sistemi (VTYS) nedir? Hangi işlevlere sahiptir?"
   ]
  },
  {
   "attachments": {},
   "cell_type": "markdown",
   "metadata": {},
   "source": [
    "04. Bir veri tabanı tasarlarken nelere dikkat etmek gerekir?"
   ]
  },
  {
   "attachments": {},
   "cell_type": "markdown",
   "metadata": {},
   "source": [
    "05. Bir veri tabanı tasarlamak için hangi adımları takip etmek gerekir?\n",
    "   "
   ]
  },
  {
   "attachments": {},
   "cell_type": "markdown",
   "metadata": {},
   "source": [
    "06. Veri tabanı normalizasyonu nedir? Hangi amaçla kullanılır?"
   ]
  },
  {
   "attachments": {},
   "cell_type": "markdown",
   "metadata": {},
   "source": [
    "07. Birincil anahtar (primary key) ve yabancı anahtar (foreign key) kavramları nedir? Ne amaçla kullanılırlar?"
   ]
  },
  {
   "attachments": {},
   "cell_type": "markdown",
   "metadata": {},
   "source": [
    "08. Veri tabanı güvenliği için hangi önlemler alınabilir?"
   ]
  },
  {
   "attachments": {},
   "cell_type": "markdown",
   "metadata": {},
   "source": [
    "09. Bir veri tabanı yöneticisi (VTY) ne yapar?"
   ]
  },
  {
   "attachments": {},
   "cell_type": "markdown",
   "metadata": {},
   "source": [
    "10. Hangi durumlarda bir veri tabanı performans sorunları yaşayabilir? Bu sorunlar nasıl çözülebilir?"
   ]
  },
  {
   "attachments": {},
   "cell_type": "markdown",
   "metadata": {},
   "source": [
    "11. Veri tabanı nedir ve neden kullanılır? Veri tabanlarının avantajları nelerdir?\n",
    "    \n"
   ]
  },
  {
   "attachments": {},
   "cell_type": "markdown",
   "metadata": {},
   "source": [
    "12. İlişkisel veri modeli nedir? İlişkisel veri modelinde kullanılan temel yapılar nelerdir?\n",
    "    \n"
   ]
  },
  {
   "attachments": {},
   "cell_type": "markdown",
   "metadata": {},
   "source": [
    "13. Bir veri tabanı yönetim sistemi (VTYS) nedir? VTYS'nin hangi işlevleri vardır ve neden önemlidir?\n"
   ]
  },
  {
   "attachments": {},
   "cell_type": "markdown",
   "metadata": {},
   "source": [
    "\n",
    "14.  Veri tabanı tasarımı yaparken nelere dikkat etmek gerekir? Hangi veri modelleri ve normalizasyon teknikleri kullanılır?\n",
    "    \n"
   ]
  },
  {
   "attachments": {},
   "cell_type": "markdown",
   "metadata": {},
   "source": [
    "15.  Veri tabanı tasarımı için genel bir süreç nasıl olmalıdır? Hangi adımları takip etmek gerekir?\n",
    "    \n"
   ]
  },
  {
   "attachments": {},
   "cell_type": "markdown",
   "metadata": {},
   "source": [
    "16.  Birincil anahtar (primary key) ve yabancı anahtar (foreign key) kavramları nedir? Bu anahtarların kullanımı neden önemlidir?\n",
    "    \n"
   ]
  },
  {
   "attachments": {},
   "cell_type": "markdown",
   "metadata": {},
   "source": [
    "17.  Veri tabanı güvenliği için hangi önlemler alınabilir? Veri tabanı yöneticisi (VTY) bu önlemleri nasıl uygular?\n",
    "    \n"
   ]
  },
  {
   "attachments": {},
   "cell_type": "markdown",
   "metadata": {},
   "source": [
    "18.  Bir veri tabanı performans sorunları yaşarsa, bunlar nasıl çözülebilir? Veri tabanı performansını artırmak için hangi teknikler kullanılabilir?"
   ]
  }
 ],
 "metadata": {
  "kernelspec": {
   "display_name": "Python 3",
   "language": "python",
   "name": "python3"
  },
  "language_info": {
   "name": "python",
   "version": "3.10.9"
  },
  "orig_nbformat": 4
 },
 "nbformat": 4,
 "nbformat_minor": 2
}
